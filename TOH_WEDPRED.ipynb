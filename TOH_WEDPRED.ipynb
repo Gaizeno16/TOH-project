{
  "cells": [
    {
      "cell_type": "code",
      "execution_count": null,
      "metadata": {
        "id": "Phkmf0MXSXz0"
      },
      "outputs": [],
      "source": [
        "#choice of API source was changed to Tommorrow.io\n",
        "#1. 400 Bad Request: This error indicates that the request was invalid or malformed, and the server cannot process it.\n",
        "\n",
        "#2. 401 Unauthorized: This error means that the request requires authentication, but the provided credentials are invalid or missing.\n",
        "\n",
        "#3. 403 Forbidden: This error occurs when the server understands the request, but the user does not have sufficient permissions to access the requested resource.\n",
        "\n",
        "#4. 404 Not Found: This error suggests that the requested resource could not be found on the server.\n",
        "\n",
        "#5. 500 Internal Server Error: This is a generic server error indicating that something went wrong on the server while processing the request."
      ]
    },
    {
      "cell_type": "code",
      "execution_count": null,
      "metadata": {
        "id": "sQxVwoxa4mZ1"
      },
      "outputs": [],
      "source": [
        "#Godwin\n",
        "#Dr. Gary Thai\n",
        "#Final Project\n",
        "import requests\n",
        "import json as js\n",
        "import pandas as pd\n",
        "from datetime import datetime, timedelta\n",
        "import urllib.request, urllib.parse, urllib.error\n",
        "from urllib.parse import urlencode\n",
        "import ssl"
      ]
    },
    {
      "cell_type": "code",
      "execution_count": 1,
      "metadata": {
        "colab": {
          "base_uri": "https://localhost:8080/",
          "height": 254
        },
        "id": "zoeFKqta-BTi",
        "outputId": "120c5e4c-0c66-43f3-aa50-c8da9714bdd8"
      },
      "outputs": [
        {
          "output_type": "error",
          "ename": "NameError",
          "evalue": "ignored",
          "traceback": [
            "\u001b[0;31m---------------------------------------------------------------------------\u001b[0m",
            "\u001b[0;31mNameError\u001b[0m                                 Traceback (most recent call last)",
            "\u001b[0;32m<ipython-input-1-f59ea1d3b38e>\u001b[0m in \u001b[0;36m<cell line: 5>\u001b[0;34m()\u001b[0m\n\u001b[1;32m      3\u001b[0m \u001b[0mapi_key\u001b[0m \u001b[0;34m=\u001b[0m \u001b[0;34m\"oRinGWHgBjn0BwrZOREvkxsx2q2U8eqY\"\u001b[0m\u001b[0;34m\u001b[0m\u001b[0;34m\u001b[0m\u001b[0m\n\u001b[1;32m      4\u001b[0m \u001b[0mheaders\u001b[0m \u001b[0;34m=\u001b[0m \u001b[0;34m{\u001b[0m\u001b[0;34m\"accept\"\u001b[0m\u001b[0;34m:\u001b[0m \u001b[0;34m\"application/json\"\u001b[0m\u001b[0;34m}\u001b[0m\u001b[0;34m\u001b[0m\u001b[0;34m\u001b[0m\u001b[0m\n\u001b[0;32m----> 5\u001b[0;31m \u001b[0mresponse\u001b[0m \u001b[0;34m=\u001b[0m \u001b[0mrequests\u001b[0m\u001b[0;34m.\u001b[0m\u001b[0mget\u001b[0m\u001b[0;34m(\u001b[0m\u001b[0murl\u001b[0m\u001b[0;34m,\u001b[0m \u001b[0mheaders\u001b[0m\u001b[0;34m=\u001b[0m\u001b[0mheaders\u001b[0m\u001b[0;34m)\u001b[0m\u001b[0;34m\u001b[0m\u001b[0;34m\u001b[0m\u001b[0m\n\u001b[0m\u001b[1;32m      6\u001b[0m \u001b[0mdata\u001b[0m\u001b[0;34m=\u001b[0m\u001b[0mjs\u001b[0m\u001b[0;34m.\u001b[0m\u001b[0mloads\u001b[0m\u001b[0;34m(\u001b[0m\u001b[0mresponse\u001b[0m\u001b[0;34m.\u001b[0m\u001b[0mtext\u001b[0m\u001b[0;34m)\u001b[0m\u001b[0;34m\u001b[0m\u001b[0;34m\u001b[0m\u001b[0m\n\u001b[1;32m      7\u001b[0m \u001b[0mprint\u001b[0m\u001b[0;34m(\u001b[0m\u001b[0mdata\u001b[0m\u001b[0;34m)\u001b[0m\u001b[0;34m\u001b[0m\u001b[0;34m\u001b[0m\u001b[0m\n",
            "\u001b[0;31mNameError\u001b[0m: name 'requests' is not defined"
          ]
        }
      ],
      "source": [
        "#Godwin\n",
        "url = \"https://api.tomorrow.io/v4/weather/forecast?location=gaithersburg&timesteps=1d&units=imperial&apikey=oRinGWHgBjn0BwrZOREvkxsx2q2U8eqY\"\n",
        "api_key = \"oRinGWHgBjn0BwrZOREvkxsx2q2U8eqY\"\n",
        "headers = {\"accept\": \"application/json\"}\n",
        "response = requests.get(url, headers=headers)\n",
        "data=js.loads(response.text)\n",
        "print(data)"
      ]
    },
    {
      "cell_type": "code",
      "source": [
        "#Godwin\n",
        "address = input(\"Enter location: \").lower()\n",
        "api_key = \"oRinGWHgBjn0BwrZOREvkxsx2q2U8eqY\"\n",
        "b_url = \"https://api.tomorrow.io/v4/weather/forecast?\"\n",
        "\n",
        "# Parameters for the API request\n",
        "api_params = {\n",
        "    \"location\": address,\n",
        "    \"fields\": [\"temperature\", \"cloudCover\"],\n",
        "    \"units\": \"imperial\",\n",
        "    \"apikey\": api_key,\n",
        "    \"timesteps\": \"1d\",\n",
        "}\n",
        "\n",
        "# Construct the URL\n",
        "url = b_url + urlencode(api_params)\n",
        "headers = {\"Content-Type\": \"application/json\"}  # Added content type header\n",
        "\n",
        "# Make the API request\n",
        "response = requests.get(url, headers=headers)\n",
        "\n",
        "if response.status_code == 200:\n",
        "    data = response.json()\n",
        "\n",
        "    try:\n",
        "        jifi = js.dumps(data)\n",
        "        jif = js.loads(jifi)\n",
        "    except js.JSONDecodeError:\n",
        "        jif = None\n",
        "\n",
        "    if not jif or 'timelines' not in jif or 'daily' not in jif['timelines']:\n",
        "        print('==== Failure To Retrieve ====')\n",
        "        print(data)\n",
        "    else:\n",
        "        # Extract temperature values from the JSON response\n",
        "        #temperature_values = [info['values']['temperature'] for info in jif['timelines']['daily']]\n",
        "        #print(\"Temperature Values:\", temperature_values)\n",
        "        try:\n",
        "          temperature_values = [info['values']['temperatureAvg'] for info in jif['timelines']['daily']]\n",
        "          print(\"Temperature Values:\", temperature_values)\n",
        "        except KeyError as e:\n",
        "          print(f\"KeyError: {e}. Check the JSON structure to find the correct key.\")\n",
        "\n",
        "        # Print weather forecast\n",
        "        print(\"\\nWeather Forecast\")\n",
        "        print(\"================\")\n",
        "#Question 1: came up with this on the spot after my first successful run, to try and convert the time display from 2023-12-10T11:00:00Z\n",
        "#to a more user friendly manner that tells the day of the week, then MMM, DD, YYYY and Time.\n",
        "\n",
        "        for daily_result in jif['timelines']['daily']:\n",
        "          timestamp_str = daily_result['time']\n",
        "          timestamp_dt = datetime.strptime(timestamp_str, \"%Y-%m-%dT%H:%M:%SZ\")\n",
        "          date = timestamp_dt.strftime(\"%A, %B %d, %Y %I:%M %p\")\n",
        "          try:\n",
        "            temp_avg = round(daily_result['values']['temperatureAvg'])\n",
        "            temp_max = round(daily_result['values']['temperatureMax'])\n",
        "            temp_min = round(daily_result['values']['temperatureMin'])\n",
        "            print(f\"On {date}, average temperature: {temp_avg}°F, with a max temperature of {temp_max}°F,and a min temperature of {temp_min}°F\")\n",
        "          except KeyError as e:\n",
        "            print(f\"KeyError: {e}. Check the JSON structure to find the correct key.\")\n",
        "\n",
        "else:\n",
        "    print(f\"Error: {response.status_code}\")\n",
        "    print(response.text)"
      ],
      "metadata": {
        "colab": {
          "base_uri": "https://localhost:8080/"
        },
        "id": "GMC4sSPrIQCK",
        "outputId": "84071292-b906-46e9-fac0-dedaae21f557"
      },
      "execution_count": null,
      "outputs": [
        {
          "output_type": "stream",
          "name": "stdout",
          "text": [
            "Enter location: Gaithersburg\n",
            "Temperature Values: [50.34, 35.46, 35.93, 35.59, 36.75, 43.73]\n",
            "\n",
            "Weather Forecast\n",
            "================\n",
            "On Sunday, December 10, 2023 11:00 AM, average temperature: 50°F, with a max temperature of 60°F,and a min temperature of 35°F\n",
            "On Monday, December 11, 2023 11:00 AM, average temperature: 35°F, with a max temperature of 40°F,and a min temperature of 32°F\n",
            "On Tuesday, December 12, 2023 11:00 AM, average temperature: 36°F, with a max temperature of 45°F,and a min temperature of 30°F\n",
            "On Wednesday, December 13, 2023 11:00 AM, average temperature: 36°F, with a max temperature of 44°F,and a min temperature of 31°F\n",
            "On Thursday, December 14, 2023 11:00 AM, average temperature: 37°F, with a max temperature of 45°F,and a min temperature of 30°F\n",
            "On Friday, December 15, 2023 11:00 AM, average temperature: 44°F, with a max temperature of 50°F,and a min temperature of 33°F\n"
          ]
        }
      ]
    }
  ],
  "metadata": {
    "colab": {
      "provenance": []
    },
    "kernelspec": {
      "display_name": "Python 3",
      "name": "python3"
    },
    "language_info": {
      "name": "python"
    }
  },
  "nbformat": 4,
  "nbformat_minor": 0
}